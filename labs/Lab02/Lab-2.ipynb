{
 "cells": [
  {
   "cell_type": "code",
   "execution_count": 1,
   "id": "ceb5e963-1888-4d91-9f07-9e4b59f366e4",
   "metadata": {},
   "outputs": [
    {
     "ename": "ModuleNotFoundError",
     "evalue": "No module named 'jupyter_ai_magics'",
     "output_type": "error",
     "traceback": [
      "\u001b[1;31m---------------------------------------------------------------------------\u001b[0m",
      "\u001b[1;31mModuleNotFoundError\u001b[0m                       Traceback (most recent call last)",
      "Cell \u001b[1;32mIn[1], line 1\u001b[0m\n\u001b[1;32m----> 1\u001b[0m \u001b[43mget_ipython\u001b[49m\u001b[43m(\u001b[49m\u001b[43m)\u001b[49m\u001b[38;5;241;43m.\u001b[39;49m\u001b[43mrun_line_magic\u001b[49m\u001b[43m(\u001b[49m\u001b[38;5;124;43m'\u001b[39;49m\u001b[38;5;124;43mload_ext\u001b[39;49m\u001b[38;5;124;43m'\u001b[39;49m\u001b[43m,\u001b[49m\u001b[43m \u001b[49m\u001b[38;5;124;43m'\u001b[39;49m\u001b[38;5;124;43mjupyter_ai_magics\u001b[39;49m\u001b[38;5;124;43m'\u001b[39;49m\u001b[43m)\u001b[49m\n",
      "File \u001b[1;32m~\\AppData\\Roaming\\Python\\Python312\\site-packages\\IPython\\core\\interactiveshell.py:2480\u001b[0m, in \u001b[0;36mInteractiveShell.run_line_magic\u001b[1;34m(self, magic_name, line, _stack_depth)\u001b[0m\n\u001b[0;32m   2478\u001b[0m     kwargs[\u001b[38;5;124m'\u001b[39m\u001b[38;5;124mlocal_ns\u001b[39m\u001b[38;5;124m'\u001b[39m] \u001b[38;5;241m=\u001b[39m \u001b[38;5;28mself\u001b[39m\u001b[38;5;241m.\u001b[39mget_local_scope(stack_depth)\n\u001b[0;32m   2479\u001b[0m \u001b[38;5;28;01mwith\u001b[39;00m \u001b[38;5;28mself\u001b[39m\u001b[38;5;241m.\u001b[39mbuiltin_trap:\n\u001b[1;32m-> 2480\u001b[0m     result \u001b[38;5;241m=\u001b[39m \u001b[43mfn\u001b[49m\u001b[43m(\u001b[49m\u001b[38;5;241;43m*\u001b[39;49m\u001b[43margs\u001b[49m\u001b[43m,\u001b[49m\u001b[43m \u001b[49m\u001b[38;5;241;43m*\u001b[39;49m\u001b[38;5;241;43m*\u001b[39;49m\u001b[43mkwargs\u001b[49m\u001b[43m)\u001b[49m\n\u001b[0;32m   2482\u001b[0m \u001b[38;5;66;03m# The code below prevents the output from being displayed\u001b[39;00m\n\u001b[0;32m   2483\u001b[0m \u001b[38;5;66;03m# when using magics with decorator @output_can_be_silenced\u001b[39;00m\n\u001b[0;32m   2484\u001b[0m \u001b[38;5;66;03m# when the last Python token in the expression is a ';'.\u001b[39;00m\n\u001b[0;32m   2485\u001b[0m \u001b[38;5;28;01mif\u001b[39;00m \u001b[38;5;28mgetattr\u001b[39m(fn, magic\u001b[38;5;241m.\u001b[39mMAGIC_OUTPUT_CAN_BE_SILENCED, \u001b[38;5;28;01mFalse\u001b[39;00m):\n",
      "File \u001b[1;32m~\\AppData\\Roaming\\Python\\Python312\\site-packages\\IPython\\core\\magics\\extension.py:33\u001b[0m, in \u001b[0;36mExtensionMagics.load_ext\u001b[1;34m(self, module_str)\u001b[0m\n\u001b[0;32m     31\u001b[0m \u001b[38;5;28;01mif\u001b[39;00m \u001b[38;5;129;01mnot\u001b[39;00m module_str:\n\u001b[0;32m     32\u001b[0m     \u001b[38;5;28;01mraise\u001b[39;00m UsageError(\u001b[38;5;124m'\u001b[39m\u001b[38;5;124mMissing module name.\u001b[39m\u001b[38;5;124m'\u001b[39m)\n\u001b[1;32m---> 33\u001b[0m res \u001b[38;5;241m=\u001b[39m \u001b[38;5;28;43mself\u001b[39;49m\u001b[38;5;241;43m.\u001b[39;49m\u001b[43mshell\u001b[49m\u001b[38;5;241;43m.\u001b[39;49m\u001b[43mextension_manager\u001b[49m\u001b[38;5;241;43m.\u001b[39;49m\u001b[43mload_extension\u001b[49m\u001b[43m(\u001b[49m\u001b[43mmodule_str\u001b[49m\u001b[43m)\u001b[49m\n\u001b[0;32m     35\u001b[0m \u001b[38;5;28;01mif\u001b[39;00m res \u001b[38;5;241m==\u001b[39m \u001b[38;5;124m'\u001b[39m\u001b[38;5;124malready loaded\u001b[39m\u001b[38;5;124m'\u001b[39m:\n\u001b[0;32m     36\u001b[0m     \u001b[38;5;28mprint\u001b[39m(\u001b[38;5;124m\"\u001b[39m\u001b[38;5;124mThe \u001b[39m\u001b[38;5;132;01m%s\u001b[39;00m\u001b[38;5;124m extension is already loaded. To reload it, use:\u001b[39m\u001b[38;5;124m\"\u001b[39m \u001b[38;5;241m%\u001b[39m module_str)\n",
      "File \u001b[1;32m~\\AppData\\Roaming\\Python\\Python312\\site-packages\\IPython\\core\\extensions.py:62\u001b[0m, in \u001b[0;36mExtensionManager.load_extension\u001b[1;34m(self, module_str)\u001b[0m\n\u001b[0;32m     55\u001b[0m \u001b[38;5;250m\u001b[39m\u001b[38;5;124;03m\"\"\"Load an IPython extension by its module name.\u001b[39;00m\n\u001b[0;32m     56\u001b[0m \n\u001b[0;32m     57\u001b[0m \u001b[38;5;124;03mReturns the string \"already loaded\" if the extension is already loaded,\u001b[39;00m\n\u001b[0;32m     58\u001b[0m \u001b[38;5;124;03m\"no load function\" if the module doesn't have a load_ipython_extension\u001b[39;00m\n\u001b[0;32m     59\u001b[0m \u001b[38;5;124;03mfunction, or None if it succeeded.\u001b[39;00m\n\u001b[0;32m     60\u001b[0m \u001b[38;5;124;03m\"\"\"\u001b[39;00m\n\u001b[0;32m     61\u001b[0m \u001b[38;5;28;01mtry\u001b[39;00m:\n\u001b[1;32m---> 62\u001b[0m     \u001b[38;5;28;01mreturn\u001b[39;00m \u001b[38;5;28;43mself\u001b[39;49m\u001b[38;5;241;43m.\u001b[39;49m\u001b[43m_load_extension\u001b[49m\u001b[43m(\u001b[49m\u001b[43mmodule_str\u001b[49m\u001b[43m)\u001b[49m\n\u001b[0;32m     63\u001b[0m \u001b[38;5;28;01mexcept\u001b[39;00m \u001b[38;5;167;01mModuleNotFoundError\u001b[39;00m:\n\u001b[0;32m     64\u001b[0m     \u001b[38;5;28;01mif\u001b[39;00m module_str \u001b[38;5;129;01min\u001b[39;00m BUILTINS_EXTS:\n",
      "File \u001b[1;32m~\\AppData\\Roaming\\Python\\Python312\\site-packages\\IPython\\core\\extensions.py:77\u001b[0m, in \u001b[0;36mExtensionManager._load_extension\u001b[1;34m(self, module_str)\u001b[0m\n\u001b[0;32m     75\u001b[0m \u001b[38;5;28;01mwith\u001b[39;00m \u001b[38;5;28mself\u001b[39m\u001b[38;5;241m.\u001b[39mshell\u001b[38;5;241m.\u001b[39mbuiltin_trap:\n\u001b[0;32m     76\u001b[0m     \u001b[38;5;28;01mif\u001b[39;00m module_str \u001b[38;5;129;01mnot\u001b[39;00m \u001b[38;5;129;01min\u001b[39;00m sys\u001b[38;5;241m.\u001b[39mmodules:\n\u001b[1;32m---> 77\u001b[0m         mod \u001b[38;5;241m=\u001b[39m \u001b[43mimport_module\u001b[49m\u001b[43m(\u001b[49m\u001b[43mmodule_str\u001b[49m\u001b[43m)\u001b[49m\n\u001b[0;32m     78\u001b[0m     mod \u001b[38;5;241m=\u001b[39m sys\u001b[38;5;241m.\u001b[39mmodules[module_str]\n\u001b[0;32m     79\u001b[0m     \u001b[38;5;28;01mif\u001b[39;00m \u001b[38;5;28mself\u001b[39m\u001b[38;5;241m.\u001b[39m_call_load_ipython_extension(mod):\n",
      "File \u001b[1;32mc:\\Users\\drikd\\AppData\\Local\\Programs\\Python\\Python312\\Lib\\importlib\\__init__.py:90\u001b[0m, in \u001b[0;36mimport_module\u001b[1;34m(name, package)\u001b[0m\n\u001b[0;32m     88\u001b[0m             \u001b[38;5;28;01mbreak\u001b[39;00m\n\u001b[0;32m     89\u001b[0m         level \u001b[38;5;241m+\u001b[39m\u001b[38;5;241m=\u001b[39m \u001b[38;5;241m1\u001b[39m\n\u001b[1;32m---> 90\u001b[0m \u001b[38;5;28;01mreturn\u001b[39;00m \u001b[43m_bootstrap\u001b[49m\u001b[38;5;241;43m.\u001b[39;49m\u001b[43m_gcd_import\u001b[49m\u001b[43m(\u001b[49m\u001b[43mname\u001b[49m\u001b[43m[\u001b[49m\u001b[43mlevel\u001b[49m\u001b[43m:\u001b[49m\u001b[43m]\u001b[49m\u001b[43m,\u001b[49m\u001b[43m \u001b[49m\u001b[43mpackage\u001b[49m\u001b[43m,\u001b[49m\u001b[43m \u001b[49m\u001b[43mlevel\u001b[49m\u001b[43m)\u001b[49m\n",
      "File \u001b[1;32m<frozen importlib._bootstrap>:1387\u001b[0m, in \u001b[0;36m_gcd_import\u001b[1;34m(name, package, level)\u001b[0m\n",
      "File \u001b[1;32m<frozen importlib._bootstrap>:1360\u001b[0m, in \u001b[0;36m_find_and_load\u001b[1;34m(name, import_)\u001b[0m\n",
      "File \u001b[1;32m<frozen importlib._bootstrap>:1324\u001b[0m, in \u001b[0;36m_find_and_load_unlocked\u001b[1;34m(name, import_)\u001b[0m\n",
      "\u001b[1;31mModuleNotFoundError\u001b[0m: No module named 'jupyter_ai_magics'"
     ]
    }
   ],
   "source": [
    "%load_ext jupyter_ai_magics"
   ]
  },
  {
   "cell_type": "code",
   "execution_count": 2,
   "id": "ec2c73a5-03ac-41b0-8a09-9340d2df56da",
   "metadata": {},
   "outputs": [],
   "source": [
    "from datascience import *\n",
    "import numpy as np"
   ]
  },
  {
   "cell_type": "markdown",
   "id": "3e7fb147-8b58-4e2b-adad-204508a19eb8",
   "metadata": {},
   "source": [
    "## Tables\n",
    "\n",
    "Tables are a structured representation of data and fundamental in viewing and analyzing data. "
   ]
  },
  {
   "cell_type": "markdown",
   "id": "68c871a5-d94a-403d-8963-c94b347d7f39",
   "metadata": {},
   "source": [
    "To get you up to speed with tables and all the functionality they bring with them, we'll be exploring the Word University Rankings table. As you can guess, this dataset has the information of the world's top universities and their rank along with the scoring factors that their rank was computed from. You will be analyzing this dataset throughout this lab notebook. Lets begin!"
   ]
  },
  {
   "cell_type": "code",
   "execution_count": 4,
   "id": "736b62d1-304a-4c5b-9bc3-38615083d0dd",
   "metadata": {},
   "outputs": [],
   "source": [
    "ranking = Table().read_table(\"data/world_university_rankings.csv\")"
   ]
  },
  {
   "cell_type": "code",
   "execution_count": 6,
   "id": "0218648d-7ac4-4b3c-94d6-fa7a44ef7fe7",
   "metadata": {},
   "outputs": [
    {
     "data": {
      "text/html": [
       "<table border=\"1\" class=\"dataframe\">\n",
       "    <thead>\n",
       "        <tr>\n",
       "            <th>rank</th> <th>ranking-institution-title</th> <th>location</th> <th>Overall scores</th> <th>Research Quality Score</th> <th>Industry Score</th> <th>International Outlook</th> <th>Research Environment Score</th> <th>Teaching Score</th>\n",
       "        </tr>\n",
       "    </thead>\n",
       "    <tbody>\n",
       "        <tr>\n",
       "            <td>1   </td> <td>Massachusetts Institute of Technology</td> <td>United States </td> <td>94.8          </td> <td>92.2                  </td> <td>99.9          </td> <td>89.6                 </td> <td>96.5                      </td> <td>96            </td>\n",
       "        </tr>\n",
       "        <tr>\n",
       "            <td>2   </td> <td>Stanford University                  </td> <td>United States </td> <td>93.1          </td> <td>91.9                  </td> <td>100           </td> <td>83.5                 </td> <td>91.8                      </td> <td>98.2          </td>\n",
       "        </tr>\n",
       "        <tr>\n",
       "            <td>3   </td> <td>University of Oxford                 </td> <td>United Kingdom</td> <td>91.3          </td> <td>81.7                  </td> <td>89.4          </td> <td>94.5                 </td> <td>97.4                      </td> <td>93.5          </td>\n",
       "        </tr>\n",
       "        <tr>\n",
       "            <td>4   </td> <td>University of California, Berkeley   </td> <td>United States </td> <td>90.6          </td> <td>95.2                  </td> <td>90.6          </td> <td>83.5                 </td> <td>92.7                      </td> <td>91.1          </td>\n",
       "        </tr>\n",
       "        <tr>\n",
       "            <td>5   </td> <td>Peking University                    </td> <td>China         </td> <td>90.4          </td> <td>74.5                  </td> <td>95.4          </td> <td>94                   </td> <td>91.8                      </td> <td>96.3          </td>\n",
       "        </tr>\n",
       "        <tr>\n",
       "            <td>6   </td> <td>Tsinghua University                  </td> <td>China         </td> <td>89.6          </td> <td>82.5                  </td> <td>99.5          </td> <td>77.7                 </td> <td>95.2                      </td> <td>93.2          </td>\n",
       "        </tr>\n",
       "        <tr>\n",
       "            <td>7   </td> <td>University of Cambridge              </td> <td>United Kingdom</td> <td>89.4          </td> <td>86.6                  </td> <td>76.7          </td> <td>95.4                 </td> <td>94.6                      </td> <td>93.8          </td>\n",
       "        </tr>\n",
       "        <tr>\n",
       "            <td>8   </td> <td>ETH Zurich                           </td> <td>Switzerland   </td> <td>88.3          </td> <td>87.1                  </td> <td>99.5          </td> <td>96.4                 </td> <td>83.1                      </td> <td>75.2          </td>\n",
       "        </tr>\n",
       "        <tr>\n",
       "            <td>9   </td> <td>Harvard University                   </td> <td>United States </td> <td>87.1          </td> <td>95.2                  </td> <td>69.8          </td> <td>82.1                 </td> <td>93.4                      </td> <td>95            </td>\n",
       "        </tr>\n",
       "        <tr>\n",
       "            <td>10  </td> <td>National University of Singapore     </td> <td>Singapore     </td> <td>86.8          </td> <td>79.7                  </td> <td>97.9          </td> <td>80.4                 </td> <td>95.9                      </td> <td>79.9          </td>\n",
       "        </tr>\n",
       "    </tbody>\n",
       "</table>\n",
       "<p>... (900 rows omitted)</p>"
      ],
      "text/plain": [
       "<IPython.core.display.HTML object>"
      ]
     },
     "metadata": {},
     "output_type": "display_data"
    }
   ],
   "source": [
    "ranking.show(10)"
   ]
  },
  {
   "cell_type": "markdown",
   "id": "afac8792-c2a8-4ea1-80bf-09f40a60665e",
   "metadata": {},
   "source": [
    "**Q1:** To get started, print all column names of the university ranking table and the number of rows. *Hint:* Check out https://inferentialthinking.com/chapters/06/Tables.html"
   ]
  },
  {
   "cell_type": "code",
   "execution_count": null,
   "id": "5ca9268d-96e8-42ed-9e8f-cc5c34962df9",
   "metadata": {},
   "outputs": [],
   "source": [
    "#SOLUTION"
   ]
  },
  {
   "cell_type": "markdown",
   "id": "1f411afe-dac8-40e0-8613-d77c668b56ba",
   "metadata": {},
   "source": [
    "### Prompt Below:"
   ]
  },
  {
   "cell_type": "code",
   "execution_count": null,
   "id": "ad7e904a-5db1-49df-936d-0a508d7dee05",
   "metadata": {},
   "outputs": [],
   "source": [
    "%%ai openai-chat:gpt-3.5-turbo"
   ]
  },
  {
   "cell_type": "markdown",
   "id": "8b7519ab-f2ee-4fb2-90c0-0a7575690142",
   "metadata": {},
   "source": [
    "### Explain your workflow below:"
   ]
  },
  {
   "cell_type": "markdown",
   "id": "8bd00479-2f80-4c77-87b2-32f0899c9f37",
   "metadata": {},
   "source": [
    "*type your answer here*"
   ]
  },
  {
   "cell_type": "markdown",
   "id": "89050bc5-1c16-4375-8db2-308a9672a93c",
   "metadata": {},
   "source": [
    "**Q2:** Filter your table to display the names of only the top 5 institutes by rank (i.e., no additional columns). \n",
    "*Hint:* https://inferentialthinking.com/chapters/06/2/Selecting_Rows.html and https://inferentialthinking.com/chapters/06/Tables.html might be helpful."
   ]
  },
  {
   "cell_type": "code",
   "execution_count": null,
   "id": "0df16abd-6a4d-4b18-92a6-172c0efb52cf",
   "metadata": {},
   "outputs": [],
   "source": [
    "#SOLUTION"
   ]
  },
  {
   "cell_type": "markdown",
   "id": "1bc77c01-8a5b-4eed-be47-95c4e2650369",
   "metadata": {},
   "source": [
    "### Prompt Below:"
   ]
  },
  {
   "cell_type": "code",
   "execution_count": null,
   "id": "e453ac89-58d3-46d2-9ef0-88b15c4349bd",
   "metadata": {},
   "outputs": [],
   "source": [
    "%%ai openai-chat:gpt-3.5-turbo"
   ]
  },
  {
   "cell_type": "markdown",
   "id": "e2cfecd8-29c2-4028-80e1-c2ef80a365c0",
   "metadata": {},
   "source": [
    "### Explain your workflow below:"
   ]
  },
  {
   "cell_type": "markdown",
   "id": "b79e93c1-d45d-4296-a9dc-5977b334a9fa",
   "metadata": {},
   "source": [
    "*type your answer here*"
   ]
  },
  {
   "cell_type": "markdown",
   "id": "4dfb3799-b841-4739-a60c-f9a2293ee977",
   "metadata": {},
   "source": [
    "**Q3:** How can display the rows of only the universities of rank 1, 5, 10, 50, 100, and 500?\n",
    "*Hint:* Think of a table function that can select individual rows. https://inferentialthinking.com/chapters/06/2/Selecting_Rows.html "
   ]
  },
  {
   "cell_type": "code",
   "execution_count": null,
   "id": "19ab66bc-2e05-4f3e-8c18-1b1277fdcdda",
   "metadata": {},
   "outputs": [],
   "source": [
    "#SOLUTION"
   ]
  },
  {
   "cell_type": "markdown",
   "id": "df6e488c-eb30-49f4-973a-1d3cd88534e6",
   "metadata": {},
   "source": [
    "### Prompt Below:"
   ]
  },
  {
   "cell_type": "code",
   "execution_count": null,
   "id": "35a4e61a-1508-40ed-b407-f0087b0fddfa",
   "metadata": {},
   "outputs": [],
   "source": [
    "%%ai openai-chat:gpt-3.5-turbo"
   ]
  },
  {
   "cell_type": "markdown",
   "id": "1f0356b7-c742-4c80-9691-edd72382c398",
   "metadata": {},
   "source": [
    "### Explain your workflow below:"
   ]
  },
  {
   "cell_type": "markdown",
   "id": "9e622e98-0036-4a4f-8cae-92e152e89cfb",
   "metadata": {},
   "source": [
    "*type your answer here*"
   ]
  },
  {
   "cell_type": "markdown",
   "id": "38aad16d-0e79-4590-b1f3-7eeaac10be63",
   "metadata": {},
   "source": [
    "**Q4:** The table has institutions from many different countries. Can you generate a table that only contains universities from the US?\n",
    "*Hint:* Is there a function that allows you to filter functions based on a condition? https://inferentialthinking.com/chapters/06/2/Selecting_Rows.html"
   ]
  },
  {
   "cell_type": "code",
   "execution_count": null,
   "id": "345db8a1-dc23-4f43-9c82-c2b108f3842f",
   "metadata": {},
   "outputs": [],
   "source": [
    "#SOLUTION"
   ]
  },
  {
   "cell_type": "markdown",
   "id": "e4993394-35b7-4ca7-827b-9cb6e21084c8",
   "metadata": {},
   "source": [
    "### Prompt Below:"
   ]
  },
  {
   "cell_type": "code",
   "execution_count": null,
   "id": "f51c028c-461c-4a21-865a-649440385d9d",
   "metadata": {},
   "outputs": [],
   "source": [
    "%%ai openai-chat:gpt-3.5-turbo"
   ]
  },
  {
   "cell_type": "markdown",
   "id": "bde7bb79-9bbb-40d5-802a-91234135ea32",
   "metadata": {},
   "source": [
    "### Explain your workflow below:"
   ]
  },
  {
   "cell_type": "markdown",
   "id": "b1314a3f-83ab-4a14-9035-d3742de7880e",
   "metadata": {},
   "source": [
    "*type your answer here*"
   ]
  },
  {
   "cell_type": "markdown",
   "id": "a7bb7bf4-2f05-4ee8-9208-112f1492ef25",
   "metadata": {},
   "source": [
    "**Q4.1:** Lets take it up a notch. Can you generate a table that only contains universities from the US that have a research quality score above 90?\n",
    "*Hint:* Work through the problem one step at a time"
   ]
  },
  {
   "cell_type": "code",
   "execution_count": null,
   "id": "4a37e503-ade4-4da1-a34d-e96367071336",
   "metadata": {},
   "outputs": [],
   "source": [
    "#SOLUTION"
   ]
  },
  {
   "cell_type": "markdown",
   "id": "a4d962f1-199f-4b97-a674-9a3719c9a631",
   "metadata": {},
   "source": [
    "### Prompt Below:"
   ]
  },
  {
   "cell_type": "code",
   "execution_count": null,
   "id": "ef60557a-dfc1-44af-8e7f-e86b05a12f9d",
   "metadata": {},
   "outputs": [],
   "source": [
    "%%ai openai-chat:gpt-3.5-turbo"
   ]
  },
  {
   "cell_type": "markdown",
   "id": "fe32f754-6750-4a92-be71-5bf856d4cf61",
   "metadata": {},
   "source": [
    "### Explain your workflow below:"
   ]
  },
  {
   "cell_type": "markdown",
   "id": "ef2aedcc-d9dd-4fd7-b0f1-a2adfd374975",
   "metadata": {},
   "source": [
    "*type your answer here*"
   ]
  },
  {
   "cell_type": "markdown",
   "id": "0cfcf8e9-8a91-42ed-8c88-afa4e058222d",
   "metadata": {},
   "source": [
    "**Q5:** How can you add a column to the table of US universities that shows the rank of each university considering only US universities? *Hint:* Check out https://inferentialthinking.com/chapters/06/Tables.html.\n",
    "\n",
    "*Hint:* Remember, if you need a new column for your table, you need an array first"
   ]
  },
  {
   "cell_type": "code",
   "execution_count": null,
   "id": "fec02b66-97e9-4daa-872e-d85884b7dfcb",
   "metadata": {},
   "outputs": [],
   "source": [
    "#SOLUTION"
   ]
  },
  {
   "cell_type": "markdown",
   "id": "f403e69c-6d54-44f9-ac96-5d2e38381ecc",
   "metadata": {},
   "source": [
    "### Prompt Below:"
   ]
  },
  {
   "cell_type": "code",
   "execution_count": null,
   "id": "18abf03e-7f32-42b1-a53b-c0477f23b2b1",
   "metadata": {},
   "outputs": [],
   "source": [
    "%%ai openai-chat:gpt-3.5-turbo"
   ]
  },
  {
   "cell_type": "markdown",
   "id": "1f60768c-9efc-43a3-83d2-fbe6832de3b2",
   "metadata": {},
   "source": [
    "### Explain your workflow below:"
   ]
  },
  {
   "cell_type": "markdown",
   "id": "777da540-749c-465f-b4d7-3a1e01589fb3",
   "metadata": {},
   "source": [
    "*type your answer here*"
   ]
  },
  {
   "cell_type": "markdown",
   "id": "59d56e16-2217-4084-b456-597bd69bb0a4",
   "metadata": {},
   "source": [
    "**Q6:** What is the rank of the University of Florida internationally and in the US? Show only the name of the university and the two ranks. *Hint:* https://inferentialthinking.com/chapters/06/2/Selecting_Rows.html might give you an idea."
   ]
  },
  {
   "cell_type": "code",
   "execution_count": null,
   "id": "8aed707d-6e62-4a91-b36c-b73d620c299c",
   "metadata": {},
   "outputs": [],
   "source": [
    "#SOLUTION"
   ]
  },
  {
   "cell_type": "markdown",
   "id": "c98d7672-5bba-4038-ae66-6700d6f1f9c8",
   "metadata": {},
   "source": [
    "### Prompt Below:"
   ]
  },
  {
   "cell_type": "code",
   "execution_count": null,
   "id": "e3831abd-a0de-49b3-acf1-5523379842b1",
   "metadata": {},
   "outputs": [],
   "source": [
    "%%ai openai-chat:gpt-3.5-turbo"
   ]
  },
  {
   "cell_type": "markdown",
   "id": "23e57857-5f0c-48fb-a12f-bf5d0a8b4b74",
   "metadata": {},
   "source": [
    "### Explain your workflow below:"
   ]
  },
  {
   "cell_type": "markdown",
   "id": "9e9741c3-3a7d-4e12-9019-36cc90a6223b",
   "metadata": {},
   "source": [
    "*type your answer here*"
   ]
  },
  {
   "cell_type": "markdown",
   "id": "ce0b305f-2c68-4f4e-8a71-dd145a7f65d8",
   "metadata": {},
   "source": [
    "**Q7:** How many countries have at least 1 university in your rankings table? You need to get the count and a table with just the names of the universities *Hint:* Are there any table methods you might use to group information?"
   ]
  },
  {
   "cell_type": "code",
   "execution_count": null,
   "id": "31bfc3d9-a700-438f-8ed3-ad17e4f500e5",
   "metadata": {},
   "outputs": [],
   "source": [
    "#SOLUTION"
   ]
  },
  {
   "cell_type": "markdown",
   "id": "fdddfb3d-7b1d-42fc-b48e-9bd8c2ae22d5",
   "metadata": {},
   "source": [
    "### Prompt Below:"
   ]
  },
  {
   "cell_type": "code",
   "execution_count": null,
   "id": "e84f4f27-5749-4528-bd9d-6c8d80ca4eeb",
   "metadata": {},
   "outputs": [],
   "source": [
    "%%ai openai-chat:gpt-3.5-turbo"
   ]
  },
  {
   "cell_type": "markdown",
   "id": "31bb651c-925f-4476-9e33-8f871e3827da",
   "metadata": {},
   "source": [
    "### Explain your workflow below:"
   ]
  },
  {
   "cell_type": "markdown",
   "id": "b45aa323-b8e7-406d-a0aa-736abc1fd0cc",
   "metadata": {},
   "source": [
    "*type your answer here*"
   ]
  },
  {
   "cell_type": "markdown",
   "id": "18176f22-be57-4faa-ba6c-9fdd4ed7de6a",
   "metadata": {},
   "source": [
    "**Q8:** What is the best university in teaching in the US? What is it worldwide? *Hint*: Check out https://inferentialthinking.com/chapters/06/1/Sorting_Rows.html."
   ]
  },
  {
   "cell_type": "code",
   "execution_count": null,
   "id": "005c6a62-9c8a-4282-8dd5-46ae5c95bd6c",
   "metadata": {},
   "outputs": [],
   "source": [
    "#SOLUTION"
   ]
  },
  {
   "cell_type": "markdown",
   "id": "784b4e20-8f93-4583-aeb8-1ffedc00d067",
   "metadata": {},
   "source": [
    "### Prompt Below:"
   ]
  },
  {
   "cell_type": "code",
   "execution_count": null,
   "id": "430109f2-dda0-4e86-8b0b-2ce24518c0ed",
   "metadata": {},
   "outputs": [],
   "source": [
    "%%ai openai-chat:gpt-3.5-turbo"
   ]
  },
  {
   "cell_type": "markdown",
   "id": "3922bfa2-768a-4bf4-876a-484878732175",
   "metadata": {},
   "source": [
    "### Explain your workflow below:"
   ]
  },
  {
   "cell_type": "markdown",
   "id": "2622e438-c8b2-4ddd-aca4-4d312ddb994b",
   "metadata": {},
   "source": [
    "*type your answer here*"
   ]
  },
  {
   "cell_type": "markdown",
   "id": "e8c5ca32-5c00-4166-b5bc-43c154bf43ad",
   "metadata": {},
   "source": [
    "**Q9:** How many universities have a research quality score below the average score? *Hint:* Think array operations on columns."
   ]
  },
  {
   "cell_type": "code",
   "execution_count": null,
   "id": "94e3b719-a48b-40ae-9642-91fdc8d98490",
   "metadata": {},
   "outputs": [],
   "source": [
    "#SOLUTION"
   ]
  },
  {
   "cell_type": "markdown",
   "id": "68cc9aa9-fe29-4578-9e92-8c75b75380a4",
   "metadata": {},
   "source": [
    "### Prompt Below:"
   ]
  },
  {
   "cell_type": "code",
   "execution_count": null,
   "id": "8c81867e-ae67-4cf1-9f7d-72ca8e275199",
   "metadata": {},
   "outputs": [],
   "source": [
    "%%ai openai-chat:gpt-3.5-turbo"
   ]
  },
  {
   "cell_type": "markdown",
   "id": "8cf1061e-bd9a-4572-a67e-46703a2beb57",
   "metadata": {},
   "source": [
    "### Explain your workflow below:"
   ]
  },
  {
   "cell_type": "markdown",
   "id": "6bc354a9-4bc4-428c-a565-df7e55f8f8f7",
   "metadata": {},
   "source": [
    "*type your answer here*"
   ]
  },
  {
   "cell_type": "markdown",
   "id": "a8cc87e5-f464-4d74-9bc1-7cb8f0991f87",
   "metadata": {},
   "source": [
    "**Q10:** Is there a university that is in the top 20% according to the industry score but in the bottom 20% according to the research quality score? *Hint:* Divide this task into steps and solve it piece by piece. Dont forget to store important information in different variables! You might just need to access it later"
   ]
  },
  {
   "cell_type": "code",
   "execution_count": null,
   "id": "e245f6fd-b580-40cc-83be-73d94f593275",
   "metadata": {},
   "outputs": [],
   "source": [
    "#SOLUTION"
   ]
  },
  {
   "cell_type": "markdown",
   "id": "fc4fdc58-69ef-4631-90df-7b086be9ae82",
   "metadata": {},
   "source": [
    "### Prompt Below:"
   ]
  },
  {
   "cell_type": "code",
   "execution_count": null,
   "id": "84977801-ec74-4962-bf00-82df8dc85ed9",
   "metadata": {},
   "outputs": [],
   "source": [
    "%%ai openai-chat:gpt-3.5-turbo"
   ]
  },
  {
   "cell_type": "markdown",
   "id": "5524f797-1461-4047-8562-11543f1d69e5",
   "metadata": {},
   "source": [
    "### Explain your workflow below:"
   ]
  },
  {
   "cell_type": "markdown",
   "id": "3d7d43cf-f891-44ce-897f-6e426a959161",
   "metadata": {},
   "source": [
    "*type your answer here*"
   ]
  },
  {
   "cell_type": "markdown",
   "id": "b0243889-01ac-44aa-b08c-5a4a953f8517",
   "metadata": {},
   "source": [
    "**Q11:** From which country is the university with the lowest ranking in research environment? Print only the country. *Hint:* https://inferentialthinking.com/chapters/06/1/Sorting_Rows.html might give you an idea."
   ]
  },
  {
   "cell_type": "code",
   "execution_count": null,
   "id": "832739a1-a7b1-4f0b-9683-91fcaeade82f",
   "metadata": {},
   "outputs": [],
   "source": [
    "#SOLUTION"
   ]
  },
  {
   "cell_type": "markdown",
   "id": "0a0b19dc-a26f-4078-b625-764ae706899d",
   "metadata": {},
   "source": [
    "### Prompt Below:"
   ]
  },
  {
   "cell_type": "code",
   "execution_count": null,
   "id": "d3b3a616-a94a-4db1-ada0-6f9e7e736f4e",
   "metadata": {},
   "outputs": [],
   "source": [
    "%%ai openai-chat:gpt-3.5-turbo"
   ]
  },
  {
   "cell_type": "markdown",
   "id": "b4bfb714-877b-40b9-9eb4-a455ca7c917e",
   "metadata": {},
   "source": [
    "### Explain your workflow below:"
   ]
  },
  {
   "cell_type": "markdown",
   "id": "b38e0519-4307-4b6b-b883-3c2edf0ba0a8",
   "metadata": {},
   "source": [
    "*type your answer here*"
   ]
  },
  {
   "cell_type": "markdown",
   "id": "eec44054-7c68-435b-9da7-a00be40669da",
   "metadata": {},
   "source": [
    "**Q12: Challenge Question - UNGRADED**\n",
    "You are a data analyst at Times Higher Education , one of the companies that releases the worldwide university ranking list every year. As an alternative list, your company wants to release a research focused university ranking list. The current ranking is decided by the Overall Score, which is a mean of all 5 factor scores. For a research focused ranking, your manager has asked you to make the following changes to how the score is calculated:\n",
    "1. Research Quality Score and Research Environment Score are worth **1.5** times what they currently are\n",
    "2. Industry Score and International Outlook are worth **half** of their current value.\n",
    "\n",
    "Using these new weighing schemes. Calculate the new overall score and return the top 5 research universities.\n",
    "\n",
    "This question can be solved by using the techniques taught in lectures and labs so far.\n",
    "\n",
    "*Hint:* Look up array broadcasting https://numpy.org/doc/stable/user/basics.broadcasting.html and arithmetic operations with numpy arrays https://www.geeksforgeeks.org/numpy-arithmetic-operations/\n",
    "\n",
    "This question will not be graded but you are strongly encouraged to give it a try. This question gives a good example of the level of problems you will be expected to solve in your project assignments (Midterm and Final). If you cannot solve it, try to write down the steps you would take to solve the problem. See if chatgpt can solve it for you with the right prompts."
   ]
  },
  {
   "cell_type": "code",
   "execution_count": null,
   "id": "3aaedc21-ffc4-48bd-8ca3-b703d2858424",
   "metadata": {},
   "outputs": [],
   "source": [
    "#SOLUTION"
   ]
  },
  {
   "cell_type": "markdown",
   "id": "5166420c-f8d0-4e12-bddc-619d4921eb21",
   "metadata": {},
   "source": [
    "### Prompt Below:"
   ]
  },
  {
   "cell_type": "code",
   "execution_count": null,
   "id": "7883e382-841b-4667-a468-af6a6ae05169",
   "metadata": {},
   "outputs": [],
   "source": [
    "%%ai openai-chat:gpt-3.5-turbo"
   ]
  },
  {
   "cell_type": "markdown",
   "id": "f5a39951-95ac-4a50-8e85-938b4f8106e4",
   "metadata": {},
   "source": [
    "### Explain your workflow below:"
   ]
  },
  {
   "cell_type": "markdown",
   "id": "48295c4a-4ff5-4c67-93da-8d5c850fc3ad",
   "metadata": {},
   "source": [
    "*type your answer here*"
   ]
  }
 ],
 "metadata": {
  "kernelspec": {
   "display_name": "Python 3 (ipykernel)",
   "language": "python",
   "name": "python3"
  },
  "language_info": {
   "codemirror_mode": {
    "name": "ipython",
    "version": 3
   },
   "file_extension": ".py",
   "mimetype": "text/x-python",
   "name": "python",
   "nbconvert_exporter": "python",
   "pygments_lexer": "ipython3",
   "version": "3.12.1"
  }
 },
 "nbformat": 4,
 "nbformat_minor": 5
}
