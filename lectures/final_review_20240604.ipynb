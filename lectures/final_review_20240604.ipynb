{
 "cells": [
  {
   "cell_type": "code",
   "execution_count": null,
   "metadata": {},
   "outputs": [],
   "source": [
    "%load_ext jupyter_ai_magics"
   ]
  },
  {
   "cell_type": "code",
   "execution_count": 2,
   "metadata": {},
   "outputs": [],
   "source": [
    "from datascience import *\n",
    "import numpy as np\n",
    "\n",
    "%matplotlib inline\n",
    "import matplotlib.pyplot as plt"
   ]
  },
  {
   "cell_type": "markdown",
   "metadata": {},
   "source": [
    "### 1. Data Cleaning"
   ]
  },
  {
   "cell_type": "code",
   "execution_count": 19,
   "metadata": {},
   "outputs": [
    {
     "data": {
      "text/html": [
       "<table border=\"1\" class=\"dataframe\">\n",
       "    <thead>\n",
       "        <tr>\n",
       "            <th>pl_name</th> <th>sy_snum</th> <th>sy_pnum</th> <th>discoverymethod</th> <th>disc_year</th> <th>disc_facility</th> <th>pl_orbper</th> <th>pl_orbsmax</th> <th>pl_rade</th> <th>pl_bmasse</th> <th>st_age</th> <th>sy_dist</th>\n",
       "        </tr>\n",
       "    </thead>\n",
       "    <tbody>\n",
       "        <tr>\n",
       "            <td>11 Com b               </td> <td>2      </td> <td>1      </td> <td>Radial Velocity</td> <td>2007     </td> <td>Xinglong Station                      </td> <td>323.21   </td> <td>1.178     </td> <td>12.2   </td> <td>4914.9   </td> <td>nan   </td> <td>93.1846</td>\n",
       "        </tr>\n",
       "        <tr>\n",
       "            <td>11 UMi b               </td> <td>1      </td> <td>1      </td> <td>Radial Velocity</td> <td>2009     </td> <td>Thueringer Landessternwarte Tautenburg</td> <td>516.22   </td> <td>1.53      </td> <td>12.3   </td> <td>4684.81  </td> <td>1.56  </td> <td>125.321</td>\n",
       "        </tr>\n",
       "        <tr>\n",
       "            <td>14 And b               </td> <td>1      </td> <td>1      </td> <td>Radial Velocity</td> <td>2008     </td> <td>Okayama Astrophysical Observatory     </td> <td>186.76   </td> <td>0.775     </td> <td>13.1   </td> <td>1131.15  </td> <td>4.5   </td> <td>75.4392</td>\n",
       "        </tr>\n",
       "        <tr>\n",
       "            <td>14 Her b               </td> <td>1      </td> <td>2      </td> <td>Radial Velocity</td> <td>2002     </td> <td>W. M. Keck Observatory                </td> <td>1765.04  </td> <td>2.774     </td> <td>12.6   </td> <td>2559.47  </td> <td>3.9   </td> <td>17.9323</td>\n",
       "        </tr>\n",
       "        <tr>\n",
       "            <td>16 Cyg B b             </td> <td>3      </td> <td>1      </td> <td>Radial Velocity</td> <td>1996     </td> <td>Multiple Observatories                </td> <td>798.5    </td> <td>1.66      </td> <td>13.5   </td> <td>565.737  </td> <td>7.4   </td> <td>21.1397</td>\n",
       "        </tr>\n",
       "        <tr>\n",
       "            <td>17 Sco b               </td> <td>1      </td> <td>1      </td> <td>Radial Velocity</td> <td>2020     </td> <td>Lick Observatory                      </td> <td>578.38   </td> <td>1.45      </td> <td>12.9   </td> <td>1373.02  </td> <td>5.13  </td> <td>124.953</td>\n",
       "        </tr>\n",
       "        <tr>\n",
       "            <td>18 Del b               </td> <td>2      </td> <td>1      </td> <td>Radial Velocity</td> <td>2008     </td> <td>Okayama Astrophysical Observatory     </td> <td>982.85   </td> <td>2.476     </td> <td>12.5   </td> <td>2926.25  </td> <td>1.1   </td> <td>76.222 </td>\n",
       "        </tr>\n",
       "        <tr>\n",
       "            <td>1RXS J160929.1-210524 b</td> <td>1      </td> <td>1      </td> <td>Imaging        </td> <td>2008     </td> <td>Gemini Observatory                    </td> <td>nan      </td> <td>330       </td> <td>18.647 </td> <td>3000     </td> <td>0.005 </td> <td>139.135</td>\n",
       "        </tr>\n",
       "        <tr>\n",
       "            <td>24 Boo b               </td> <td>1      </td> <td>1      </td> <td>Radial Velocity</td> <td>2018     </td> <td>Okayama Astrophysical Observatory     </td> <td>30.33    </td> <td>0.194     </td> <td>13.9   </td> <td>280.642  </td> <td>6.92  </td> <td>95.9863</td>\n",
       "        </tr>\n",
       "        <tr>\n",
       "            <td>24 Sex b               </td> <td>1      </td> <td>2      </td> <td>Radial Velocity</td> <td>2010     </td> <td>Lick Observatory                      </td> <td>452.8    </td> <td>1.333     </td> <td>13.4   </td> <td>632.46   </td> <td>2.7   </td> <td>72.0691</td>\n",
       "        </tr>\n",
       "    </tbody>\n",
       "</table>\n",
       "<p>... (5559 rows omitted)</p>"
      ],
      "text/plain": [
       "pl_name                 | sy_snum | sy_pnum | discoverymethod | disc_year | disc_facility                          | pl_orbper | pl_orbsmax | pl_rade | pl_bmasse | st_age | sy_dist\n",
       "11 Com b                | 2       | 1       | Radial Velocity | 2007      | Xinglong Station                       | 323.21    | 1.178      | 12.2    | 4914.9    | nan    | 93.1846\n",
       "11 UMi b                | 1       | 1       | Radial Velocity | 2009      | Thueringer Landessternwarte Tautenburg | 516.22    | 1.53       | 12.3    | 4684.81   | 1.56   | 125.321\n",
       "14 And b                | 1       | 1       | Radial Velocity | 2008      | Okayama Astrophysical Observatory      | 186.76    | 0.775      | 13.1    | 1131.15   | 4.5    | 75.4392\n",
       "14 Her b                | 1       | 2       | Radial Velocity | 2002      | W. M. Keck Observatory                 | 1765.04   | 2.774      | 12.6    | 2559.47   | 3.9    | 17.9323\n",
       "16 Cyg B b              | 3       | 1       | Radial Velocity | 1996      | Multiple Observatories                 | 798.5     | 1.66       | 13.5    | 565.737   | 7.4    | 21.1397\n",
       "17 Sco b                | 1       | 1       | Radial Velocity | 2020      | Lick Observatory                       | 578.38    | 1.45       | 12.9    | 1373.02   | 5.13   | 124.953\n",
       "18 Del b                | 2       | 1       | Radial Velocity | 2008      | Okayama Astrophysical Observatory      | 982.85    | 2.476      | 12.5    | 2926.25   | 1.1    | 76.222\n",
       "1RXS J160929.1-210524 b | 1       | 1       | Imaging         | 2008      | Gemini Observatory                     | nan       | 330        | 18.647  | 3000      | 0.005  | 139.135\n",
       "24 Boo b                | 1       | 1       | Radial Velocity | 2018      | Okayama Astrophysical Observatory      | 30.33     | 0.194      | 13.9    | 280.642   | 6.92   | 95.9863\n",
       "24 Sex b                | 1       | 2       | Radial Velocity | 2010      | Lick Observatory                       | 452.8     | 1.333      | 13.4    | 632.46    | 2.7    | 72.0691\n",
       "... (5559 rows omitted)"
      ]
     },
     "execution_count": 19,
     "metadata": {},
     "output_type": "execute_result"
    }
   ],
   "source": [
    "space = Table().read_table(\"data/PSCompPars.csv\")\n",
    "space "
   ]
  },
  {
   "cell_type": "code",
   "execution_count": 20,
   "metadata": {},
   "outputs": [
    {
     "data": {
      "text/html": [
       "<table border=\"1\" class=\"dataframe\">\n",
       "    <thead>\n",
       "        <tr>\n",
       "            <th>pl_name</th> <th>sy_snum</th> <th>sy_pnum</th> <th>discoverymethod</th> <th>disc_year</th> <th>disc_facility</th> <th>pl_orbper</th> <th>pl_orbsmax</th> <th>pl_rade</th> <th>pl_bmasse</th> <th>st_age</th> <th>sy_dist</th>\n",
       "        </tr>\n",
       "    </thead>\n",
       "    <tbody>\n",
       "        <tr>\n",
       "            <td>11 UMi b               </td> <td>1      </td> <td>1      </td> <td>Radial Velocity</td> <td>2009     </td> <td>Thueringer Landessternwarte Tautenburg</td> <td>516.22   </td> <td>1.53      </td> <td>12.3   </td> <td>4684.81  </td> <td>1.56  </td> <td>125.321</td>\n",
       "        </tr>\n",
       "        <tr>\n",
       "            <td>14 And b               </td> <td>1      </td> <td>1      </td> <td>Radial Velocity</td> <td>2008     </td> <td>Okayama Astrophysical Observatory     </td> <td>186.76   </td> <td>0.775     </td> <td>13.1   </td> <td>1131.15  </td> <td>4.5   </td> <td>75.4392</td>\n",
       "        </tr>\n",
       "        <tr>\n",
       "            <td>14 Her b               </td> <td>1      </td> <td>2      </td> <td>Radial Velocity</td> <td>2002     </td> <td>W. M. Keck Observatory                </td> <td>1765.04  </td> <td>2.774     </td> <td>12.6   </td> <td>2559.47  </td> <td>3.9   </td> <td>17.9323</td>\n",
       "        </tr>\n",
       "        <tr>\n",
       "            <td>16 Cyg B b             </td> <td>3      </td> <td>1      </td> <td>Radial Velocity</td> <td>1996     </td> <td>Multiple Observatories                </td> <td>798.5    </td> <td>1.66      </td> <td>13.5   </td> <td>565.737  </td> <td>7.4   </td> <td>21.1397</td>\n",
       "        </tr>\n",
       "        <tr>\n",
       "            <td>17 Sco b               </td> <td>1      </td> <td>1      </td> <td>Radial Velocity</td> <td>2020     </td> <td>Lick Observatory                      </td> <td>578.38   </td> <td>1.45      </td> <td>12.9   </td> <td>1373.02  </td> <td>5.13  </td> <td>124.953</td>\n",
       "        </tr>\n",
       "        <tr>\n",
       "            <td>18 Del b               </td> <td>2      </td> <td>1      </td> <td>Radial Velocity</td> <td>2008     </td> <td>Okayama Astrophysical Observatory     </td> <td>982.85   </td> <td>2.476     </td> <td>12.5   </td> <td>2926.25  </td> <td>1.1   </td> <td>76.222 </td>\n",
       "        </tr>\n",
       "        <tr>\n",
       "            <td>1RXS J160929.1-210524 b</td> <td>1      </td> <td>1      </td> <td>Imaging        </td> <td>2008     </td> <td>Gemini Observatory                    </td> <td>nan      </td> <td>330       </td> <td>18.647 </td> <td>3000     </td> <td>0.005 </td> <td>139.135</td>\n",
       "        </tr>\n",
       "        <tr>\n",
       "            <td>24 Boo b               </td> <td>1      </td> <td>1      </td> <td>Radial Velocity</td> <td>2018     </td> <td>Okayama Astrophysical Observatory     </td> <td>30.33    </td> <td>0.194     </td> <td>13.9   </td> <td>280.642  </td> <td>6.92  </td> <td>95.9863</td>\n",
       "        </tr>\n",
       "        <tr>\n",
       "            <td>24 Sex b               </td> <td>1      </td> <td>2      </td> <td>Radial Velocity</td> <td>2010     </td> <td>Lick Observatory                      </td> <td>452.8    </td> <td>1.333     </td> <td>13.4   </td> <td>632.46   </td> <td>2.7   </td> <td>72.0691</td>\n",
       "        </tr>\n",
       "        <tr>\n",
       "            <td>24 Sex c               </td> <td>1      </td> <td>2      </td> <td>Radial Velocity</td> <td>2010     </td> <td>Lick Observatory                      </td> <td>883      </td> <td>2.08      </td> <td>13.9   </td> <td>273.32   </td> <td>2.7   </td> <td>72.0691</td>\n",
       "        </tr>\n",
       "    </tbody>\n",
       "</table>\n",
       "<p>... (4356 rows omitted)</p>"
      ],
      "text/plain": [
       "pl_name                 | sy_snum | sy_pnum | discoverymethod | disc_year | disc_facility                          | pl_orbper | pl_orbsmax | pl_rade | pl_bmasse | st_age | sy_dist\n",
       "11 UMi b                | 1       | 1       | Radial Velocity | 2009      | Thueringer Landessternwarte Tautenburg | 516.22    | 1.53       | 12.3    | 4684.81   | 1.56   | 125.321\n",
       "14 And b                | 1       | 1       | Radial Velocity | 2008      | Okayama Astrophysical Observatory      | 186.76    | 0.775      | 13.1    | 1131.15   | 4.5    | 75.4392\n",
       "14 Her b                | 1       | 2       | Radial Velocity | 2002      | W. M. Keck Observatory                 | 1765.04   | 2.774      | 12.6    | 2559.47   | 3.9    | 17.9323\n",
       "16 Cyg B b              | 3       | 1       | Radial Velocity | 1996      | Multiple Observatories                 | 798.5     | 1.66       | 13.5    | 565.737   | 7.4    | 21.1397\n",
       "17 Sco b                | 1       | 1       | Radial Velocity | 2020      | Lick Observatory                       | 578.38    | 1.45       | 12.9    | 1373.02   | 5.13   | 124.953\n",
       "18 Del b                | 2       | 1       | Radial Velocity | 2008      | Okayama Astrophysical Observatory      | 982.85    | 2.476      | 12.5    | 2926.25   | 1.1    | 76.222\n",
       "1RXS J160929.1-210524 b | 1       | 1       | Imaging         | 2008      | Gemini Observatory                     | nan       | 330        | 18.647  | 3000      | 0.005  | 139.135\n",
       "24 Boo b                | 1       | 1       | Radial Velocity | 2018      | Okayama Astrophysical Observatory      | 30.33     | 0.194      | 13.9    | 280.642   | 6.92   | 95.9863\n",
       "24 Sex b                | 1       | 2       | Radial Velocity | 2010      | Lick Observatory                       | 452.8     | 1.333      | 13.4    | 632.46    | 2.7    | 72.0691\n",
       "24 Sex c                | 1       | 2       | Radial Velocity | 2010      | Lick Observatory                       | 883       | 2.08       | 13.9    | 273.32    | 2.7    | 72.0691\n",
       "... (4356 rows omitted)"
      ]
     },
     "execution_count": 20,
     "metadata": {},
     "output_type": "execute_result"
    }
   ],
   "source": [
    "space.where(~np.isnan(space.column(\"st_age\")))"
   ]
  },
  {
   "cell_type": "code",
   "execution_count": 24,
   "metadata": {},
   "outputs": [],
   "source": [
    "space = space.where(~np.isnan(space.column(\"st_age\")))\n",
    "space = space.where(~np.isnan(space.column(\"sy_dist\")))"
   ]
  },
  {
   "cell_type": "markdown",
   "metadata": {},
   "source": [
    "### 2. Table Operations"
   ]
  },
  {
   "cell_type": "markdown",
   "metadata": {},
   "source": [
    "Stellar age is given in gigayear and distance is given in parsecs. Can we convert these to years and kilometers?\n",
    "\n",
    "There are 1 billion years in a gigayear and $3.086 \\times 10^{13}$ kilometers in a parsec."
   ]
  },
  {
   "cell_type": "code",
   "execution_count": 92,
   "metadata": {},
   "outputs": [],
   "source": [
    "def gigayear_to_year(gigayear):\n",
    "    return gigayear * 1000000000\n",
    "\n",
    "def parsec_to_km(parsec):\n",
    "    return parsec * 3.086 * 10**13"
   ]
  },
  {
   "cell_type": "code",
   "execution_count": 93,
   "metadata": {},
   "outputs": [
    {
     "data": {
      "text/html": [
       "<table border=\"1\" class=\"dataframe\">\n",
       "    <thead>\n",
       "        <tr>\n",
       "            <th>pl_name</th> <th>sy_snum</th> <th>sy_pnum</th> <th>discoverymethod</th> <th>disc_year</th> <th>disc_facility</th> <th>pl_orbper</th> <th>pl_orbsmax</th> <th>pl_rade</th> <th>pl_bmasse</th> <th>st_age</th> <th>sy_dist</th> <th>st_age (year)</th>\n",
       "        </tr>\n",
       "    </thead>\n",
       "    <tbody>\n",
       "        <tr>\n",
       "            <td>11 UMi b               </td> <td>1      </td> <td>1      </td> <td>Radial Velocity</td> <td>2009     </td> <td>Thueringer Landessternwarte Tautenburg</td> <td>516.22   </td> <td>1.53      </td> <td>12.3   </td> <td>4684.81  </td> <td>1.56  </td> <td>125.321</td> <td>1.56e+09     </td>\n",
       "        </tr>\n",
       "        <tr>\n",
       "            <td>14 And b               </td> <td>1      </td> <td>1      </td> <td>Radial Velocity</td> <td>2008     </td> <td>Okayama Astrophysical Observatory     </td> <td>186.76   </td> <td>0.775     </td> <td>13.1   </td> <td>1131.15  </td> <td>4.5   </td> <td>75.4392</td> <td>4.5e+09      </td>\n",
       "        </tr>\n",
       "        <tr>\n",
       "            <td>14 Her b               </td> <td>1      </td> <td>2      </td> <td>Radial Velocity</td> <td>2002     </td> <td>W. M. Keck Observatory                </td> <td>1765.04  </td> <td>2.774     </td> <td>12.6   </td> <td>2559.47  </td> <td>3.9   </td> <td>17.9323</td> <td>3.9e+09      </td>\n",
       "        </tr>\n",
       "        <tr>\n",
       "            <td>16 Cyg B b             </td> <td>3      </td> <td>1      </td> <td>Radial Velocity</td> <td>1996     </td> <td>Multiple Observatories                </td> <td>798.5    </td> <td>1.66      </td> <td>13.5   </td> <td>565.737  </td> <td>7.4   </td> <td>21.1397</td> <td>7.4e+09      </td>\n",
       "        </tr>\n",
       "        <tr>\n",
       "            <td>17 Sco b               </td> <td>1      </td> <td>1      </td> <td>Radial Velocity</td> <td>2020     </td> <td>Lick Observatory                      </td> <td>578.38   </td> <td>1.45      </td> <td>12.9   </td> <td>1373.02  </td> <td>5.13  </td> <td>124.953</td> <td>5.13e+09     </td>\n",
       "        </tr>\n",
       "        <tr>\n",
       "            <td>18 Del b               </td> <td>2      </td> <td>1      </td> <td>Radial Velocity</td> <td>2008     </td> <td>Okayama Astrophysical Observatory     </td> <td>982.85   </td> <td>2.476     </td> <td>12.5   </td> <td>2926.25  </td> <td>1.1   </td> <td>76.222 </td> <td>1.1e+09      </td>\n",
       "        </tr>\n",
       "        <tr>\n",
       "            <td>1RXS J160929.1-210524 b</td> <td>1      </td> <td>1      </td> <td>Imaging        </td> <td>2008     </td> <td>Gemini Observatory                    </td> <td>nan      </td> <td>330       </td> <td>18.647 </td> <td>3000     </td> <td>0.005 </td> <td>139.135</td> <td>5e+06        </td>\n",
       "        </tr>\n",
       "        <tr>\n",
       "            <td>24 Boo b               </td> <td>1      </td> <td>1      </td> <td>Radial Velocity</td> <td>2018     </td> <td>Okayama Astrophysical Observatory     </td> <td>30.33    </td> <td>0.194     </td> <td>13.9   </td> <td>280.642  </td> <td>6.92  </td> <td>95.9863</td> <td>6.92e+09     </td>\n",
       "        </tr>\n",
       "        <tr>\n",
       "            <td>24 Sex b               </td> <td>1      </td> <td>2      </td> <td>Radial Velocity</td> <td>2010     </td> <td>Lick Observatory                      </td> <td>452.8    </td> <td>1.333     </td> <td>13.4   </td> <td>632.46   </td> <td>2.7   </td> <td>72.0691</td> <td>2.7e+09      </td>\n",
       "        </tr>\n",
       "        <tr>\n",
       "            <td>24 Sex c               </td> <td>1      </td> <td>2      </td> <td>Radial Velocity</td> <td>2010     </td> <td>Lick Observatory                      </td> <td>883      </td> <td>2.08      </td> <td>13.9   </td> <td>273.32   </td> <td>2.7   </td> <td>72.0691</td> <td>2.7e+09      </td>\n",
       "        </tr>\n",
       "    </tbody>\n",
       "</table>\n",
       "<p>... (4342 rows omitted)</p>"
      ],
      "text/plain": [
       "pl_name                 | sy_snum | sy_pnum | discoverymethod | disc_year | disc_facility                          | pl_orbper | pl_orbsmax | pl_rade | pl_bmasse | st_age | sy_dist | st_age (year)\n",
       "11 UMi b                | 1       | 1       | Radial Velocity | 2009      | Thueringer Landessternwarte Tautenburg | 516.22    | 1.53       | 12.3    | 4684.81   | 1.56   | 125.321 | 1.56e+09\n",
       "14 And b                | 1       | 1       | Radial Velocity | 2008      | Okayama Astrophysical Observatory      | 186.76    | 0.775      | 13.1    | 1131.15   | 4.5    | 75.4392 | 4.5e+09\n",
       "14 Her b                | 1       | 2       | Radial Velocity | 2002      | W. M. Keck Observatory                 | 1765.04   | 2.774      | 12.6    | 2559.47   | 3.9    | 17.9323 | 3.9e+09\n",
       "16 Cyg B b              | 3       | 1       | Radial Velocity | 1996      | Multiple Observatories                 | 798.5     | 1.66       | 13.5    | 565.737   | 7.4    | 21.1397 | 7.4e+09\n",
       "17 Sco b                | 1       | 1       | Radial Velocity | 2020      | Lick Observatory                       | 578.38    | 1.45       | 12.9    | 1373.02   | 5.13   | 124.953 | 5.13e+09\n",
       "18 Del b                | 2       | 1       | Radial Velocity | 2008      | Okayama Astrophysical Observatory      | 982.85    | 2.476      | 12.5    | 2926.25   | 1.1    | 76.222  | 1.1e+09\n",
       "1RXS J160929.1-210524 b | 1       | 1       | Imaging         | 2008      | Gemini Observatory                     | nan       | 330        | 18.647  | 3000      | 0.005  | 139.135 | 5e+06\n",
       "24 Boo b                | 1       | 1       | Radial Velocity | 2018      | Okayama Astrophysical Observatory      | 30.33     | 0.194      | 13.9    | 280.642   | 6.92   | 95.9863 | 6.92e+09\n",
       "24 Sex b                | 1       | 2       | Radial Velocity | 2010      | Lick Observatory                       | 452.8     | 1.333      | 13.4    | 632.46    | 2.7    | 72.0691 | 2.7e+09\n",
       "24 Sex c                | 1       | 2       | Radial Velocity | 2010      | Lick Observatory                       | 883       | 2.08       | 13.9    | 273.32    | 2.7    | 72.0691 | 2.7e+09\n",
       "... (4342 rows omitted)"
      ]
     },
     "execution_count": 93,
     "metadata": {},
     "output_type": "execute_result"
    }
   ],
   "source": [
    "space.with_column(\"st_age (year)\", space.apply(gigayear_to_year, \"st_age\"))"
   ]
  },
  {
   "cell_type": "code",
   "execution_count": 94,
   "metadata": {},
   "outputs": [
    {
     "data": {
      "text/html": [
       "<table border=\"1\" class=\"dataframe\">\n",
       "    <thead>\n",
       "        <tr>\n",
       "            <th>pl_name</th> <th>sy_snum</th> <th>sy_pnum</th> <th>discoverymethod</th> <th>disc_year</th> <th>disc_facility</th> <th>pl_orbper</th> <th>pl_orbsmax</th> <th>pl_rade</th> <th>pl_bmasse</th> <th>st_age</th> <th>sy_dist</th> <th>sy_dist (km)</th>\n",
       "        </tr>\n",
       "    </thead>\n",
       "    <tbody>\n",
       "        <tr>\n",
       "            <td>11 UMi b               </td> <td>1      </td> <td>1      </td> <td>Radial Velocity</td> <td>2009     </td> <td>Thueringer Landessternwarte Tautenburg</td> <td>516.22   </td> <td>1.53      </td> <td>12.3   </td> <td>4684.81  </td> <td>1.56  </td> <td>125.321</td> <td>3.86741e+15 </td>\n",
       "        </tr>\n",
       "        <tr>\n",
       "            <td>14 And b               </td> <td>1      </td> <td>1      </td> <td>Radial Velocity</td> <td>2008     </td> <td>Okayama Astrophysical Observatory     </td> <td>186.76   </td> <td>0.775     </td> <td>13.1   </td> <td>1131.15  </td> <td>4.5   </td> <td>75.4392</td> <td>2.32805e+15 </td>\n",
       "        </tr>\n",
       "        <tr>\n",
       "            <td>14 Her b               </td> <td>1      </td> <td>2      </td> <td>Radial Velocity</td> <td>2002     </td> <td>W. M. Keck Observatory                </td> <td>1765.04  </td> <td>2.774     </td> <td>12.6   </td> <td>2559.47  </td> <td>3.9   </td> <td>17.9323</td> <td>5.53391e+14 </td>\n",
       "        </tr>\n",
       "        <tr>\n",
       "            <td>16 Cyg B b             </td> <td>3      </td> <td>1      </td> <td>Radial Velocity</td> <td>1996     </td> <td>Multiple Observatories                </td> <td>798.5    </td> <td>1.66      </td> <td>13.5   </td> <td>565.737  </td> <td>7.4   </td> <td>21.1397</td> <td>6.52371e+14 </td>\n",
       "        </tr>\n",
       "        <tr>\n",
       "            <td>17 Sco b               </td> <td>1      </td> <td>1      </td> <td>Radial Velocity</td> <td>2020     </td> <td>Lick Observatory                      </td> <td>578.38   </td> <td>1.45      </td> <td>12.9   </td> <td>1373.02  </td> <td>5.13  </td> <td>124.953</td> <td>3.85605e+15 </td>\n",
       "        </tr>\n",
       "        <tr>\n",
       "            <td>18 Del b               </td> <td>2      </td> <td>1      </td> <td>Radial Velocity</td> <td>2008     </td> <td>Okayama Astrophysical Observatory     </td> <td>982.85   </td> <td>2.476     </td> <td>12.5   </td> <td>2926.25  </td> <td>1.1   </td> <td>76.222 </td> <td>2.35221e+15 </td>\n",
       "        </tr>\n",
       "        <tr>\n",
       "            <td>1RXS J160929.1-210524 b</td> <td>1      </td> <td>1      </td> <td>Imaging        </td> <td>2008     </td> <td>Gemini Observatory                    </td> <td>nan      </td> <td>330       </td> <td>18.647 </td> <td>3000     </td> <td>0.005 </td> <td>139.135</td> <td>4.29371e+15 </td>\n",
       "        </tr>\n",
       "        <tr>\n",
       "            <td>24 Boo b               </td> <td>1      </td> <td>1      </td> <td>Radial Velocity</td> <td>2018     </td> <td>Okayama Astrophysical Observatory     </td> <td>30.33    </td> <td>0.194     </td> <td>13.9   </td> <td>280.642  </td> <td>6.92  </td> <td>95.9863</td> <td>2.96214e+15 </td>\n",
       "        </tr>\n",
       "        <tr>\n",
       "            <td>24 Sex b               </td> <td>1      </td> <td>2      </td> <td>Radial Velocity</td> <td>2010     </td> <td>Lick Observatory                      </td> <td>452.8    </td> <td>1.333     </td> <td>13.4   </td> <td>632.46   </td> <td>2.7   </td> <td>72.0691</td> <td>2.22405e+15 </td>\n",
       "        </tr>\n",
       "        <tr>\n",
       "            <td>24 Sex c               </td> <td>1      </td> <td>2      </td> <td>Radial Velocity</td> <td>2010     </td> <td>Lick Observatory                      </td> <td>883      </td> <td>2.08      </td> <td>13.9   </td> <td>273.32   </td> <td>2.7   </td> <td>72.0691</td> <td>2.22405e+15 </td>\n",
       "        </tr>\n",
       "    </tbody>\n",
       "</table>\n",
       "<p>... (4342 rows omitted)</p>"
      ],
      "text/plain": [
       "pl_name                 | sy_snum | sy_pnum | discoverymethod | disc_year | disc_facility                          | pl_orbper | pl_orbsmax | pl_rade | pl_bmasse | st_age | sy_dist | sy_dist (km)\n",
       "11 UMi b                | 1       | 1       | Radial Velocity | 2009      | Thueringer Landessternwarte Tautenburg | 516.22    | 1.53       | 12.3    | 4684.81   | 1.56   | 125.321 | 3.86741e+15\n",
       "14 And b                | 1       | 1       | Radial Velocity | 2008      | Okayama Astrophysical Observatory      | 186.76    | 0.775      | 13.1    | 1131.15   | 4.5    | 75.4392 | 2.32805e+15\n",
       "14 Her b                | 1       | 2       | Radial Velocity | 2002      | W. M. Keck Observatory                 | 1765.04   | 2.774      | 12.6    | 2559.47   | 3.9    | 17.9323 | 5.53391e+14\n",
       "16 Cyg B b              | 3       | 1       | Radial Velocity | 1996      | Multiple Observatories                 | 798.5     | 1.66       | 13.5    | 565.737   | 7.4    | 21.1397 | 6.52371e+14\n",
       "17 Sco b                | 1       | 1       | Radial Velocity | 2020      | Lick Observatory                       | 578.38    | 1.45       | 12.9    | 1373.02   | 5.13   | 124.953 | 3.85605e+15\n",
       "18 Del b                | 2       | 1       | Radial Velocity | 2008      | Okayama Astrophysical Observatory      | 982.85    | 2.476      | 12.5    | 2926.25   | 1.1    | 76.222  | 2.35221e+15\n",
       "1RXS J160929.1-210524 b | 1       | 1       | Imaging         | 2008      | Gemini Observatory                     | nan       | 330        | 18.647  | 3000      | 0.005  | 139.135 | 4.29371e+15\n",
       "24 Boo b                | 1       | 1       | Radial Velocity | 2018      | Okayama Astrophysical Observatory      | 30.33     | 0.194      | 13.9    | 280.642   | 6.92   | 95.9863 | 2.96214e+15\n",
       "24 Sex b                | 1       | 2       | Radial Velocity | 2010      | Lick Observatory                       | 452.8     | 1.333      | 13.4    | 632.46    | 2.7    | 72.0691 | 2.22405e+15\n",
       "24 Sex c                | 1       | 2       | Radial Velocity | 2010      | Lick Observatory                       | 883       | 2.08       | 13.9    | 273.32    | 2.7    | 72.0691 | 2.22405e+15\n",
       "... (4342 rows omitted)"
      ]
     },
     "execution_count": 94,
     "metadata": {},
     "output_type": "execute_result"
    }
   ],
   "source": [
    "space.with_column(\"sy_dist (km)\", space.apply(parsec_to_km, \"sy_dist\"))"
   ]
  },
  {
   "cell_type": "markdown",
   "metadata": {},
   "source": [
    "### 3. Hypothesis Test"
   ]
  },
  {
   "cell_type": "markdown",
   "metadata": {},
   "source": [
    "Many discoveries occur from telescopes located in Hawaii and Chile. Let us invesitgate 2 of them. We want to explore whether the W.M. Keck Observatory and La Silla Observatories have the same distances of capture. Let's use a random permutation test"
   ]
  },
  {
   "cell_type": "markdown",
   "metadata": {},
   "source": [
    "Null Hypothesis: The W.M. Keck Observatory and La Silla Observatories have the same distances of capture.\n",
    "\n",
    "Alternate Hypothesis: The W.M. Keck Observatory and La Silla Observatory have the differnet capture distances."
   ]
  },
  {
   "cell_type": "code",
   "execution_count": 85,
   "metadata": {},
   "outputs": [],
   "source": [
    "facility_1 = \"W. M. Keck Observatory\"\n",
    "facility_2 = \"La Silla Observatory\""
   ]
  },
  {
   "cell_type": "code",
   "execution_count": 86,
   "metadata": {},
   "outputs": [
    {
     "data": {
      "text/plain": [
       "40.85887208197768"
      ]
     },
     "execution_count": 86,
     "metadata": {},
     "output_type": "execute_result"
    }
   ],
   "source": [
    "observed = space.where(\"disc_facility\", facility_1).column(\"sy_dist\").mean() - space.where(\"disc_facility\", facility_2).column(\"sy_dist\").mean()\n",
    "observed"
   ]
  },
  {
   "cell_type": "code",
   "execution_count": 87,
   "metadata": {},
   "outputs": [],
   "source": [
    "def simulated_statistic(space):\n",
    "    column = space.sample(with_replacement=False).column(\"sy_dist\")\n",
    "    space = space.with_column(\"shuffle_dist\", column)\n",
    "    return space.where(\"disc_facility\", facility_1).column(\"shuffle_dist\").mean() - space.where(\"disc_facility\", facility_2).column(\"shuffle_dist\").mean()"
   ]
  },
  {
   "cell_type": "code",
   "execution_count": 88,
   "metadata": {},
   "outputs": [],
   "source": [
    "n = 1000"
   ]
  },
  {
   "cell_type": "code",
   "execution_count": 89,
   "metadata": {},
   "outputs": [],
   "source": [
    "values = []\n",
    "for i in range(n):\n",
    "    sim_stat = simulated_statistic(space)\n",
    "    values.append(sim_stat)"
   ]
  },
  {
   "cell_type": "code",
   "execution_count": 90,
   "metadata": {},
   "outputs": [
    {
     "data": {
      "text/plain": [
       "(array([   8.,   22.,   76.,  184.,  255.,  241.,  145.,   59.,    7.,    3.]),\n",
       " array([-162.26816086, -128.34404184,  -94.41992282,  -60.4958038 ,\n",
       "         -26.57168478,    7.35243424,   41.27655326,   75.20067228,\n",
       "         109.12479131,  143.04891033,  176.97302935]),\n",
       " <BarContainer object of 10 artists>)"
      ]
     },
     "execution_count": 90,
     "metadata": {},
     "output_type": "execute_result"
    },
    {
     "data": {
      "image/png": "[encoded data removed]",
      "text/plain": [
       "<Figure size 640x480 with 1 Axes>"
      ]
     },
     "metadata": {},
     "output_type": "display_data"
    }
   ],
   "source": [
    "plt.hist(values)"
   ]
  },
  {
   "cell_type": "code",
   "execution_count": 91,
   "metadata": {},
   "outputs": [
    {
     "name": "stdout",
     "output_type": "stream",
     "text": [
      "218\n",
      "0.218\n"
     ]
    }
   ],
   "source": [
    "print(np.count_nonzero(values>observed))\n",
    "print(np.count_nonzero(values>observed)/n)"
   ]
  }
 ],
 "metadata": {
  "kernelspec": {
   "display_name": "sandbox",
   "language": "python",
   "name": "python3"
  },
  "language_info": {
   "codemirror_mode": {
    "name": "ipython",
    "version": 3
   },
   "file_extension": ".py",
   "mimetype": "text/x-python",
   "name": "python",
   "nbconvert_exporter": "python",
   "pygments_lexer": "ipython3",
   "version": "3.11.4"
  }
 },
 "nbformat": 4,
 "nbformat_minor": 2
}
